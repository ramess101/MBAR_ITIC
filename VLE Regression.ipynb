{
 "cells": [
  {
   "cell_type": "code",
   "execution_count": 81,
   "metadata": {
    "collapsed": false
   },
   "outputs": [],
   "source": [
    "import numpy as np\n",
    "import matplotlib.pyplot as plt\n",
    "from scipy import stats\n",
    "from scipy.optimize import minimize, fsolve"
   ]
  },
  {
   "cell_type": "markdown",
   "metadata": {},
   "source": [
    "Data to fit to:"
   ]
  },
  {
   "cell_type": "code",
   "execution_count": 82,
   "metadata": {
    "collapsed": true
   },
   "outputs": [],
   "source": [
    "Tsat = np.array([276.778, 251.3329, 221.4212, 187.5534, 149.2056])\n",
    "rhol = np.array([428.5761,471.4212,514.2969,557.1258,600.0072])\n",
    "rhov = np.array([43.59846,21.13519,7.967988,1.86442,0.143268])\n",
    "Psat = np.array([23.62316,12.02041,4.435127,0.938118,0.058897])"
   ]
  },
  {
   "cell_type": "code",
   "execution_count": 83,
   "metadata": {
    "collapsed": true
   },
   "outputs": [],
   "source": [
    "def SSE(data,model):\n",
    "    SE = (data - model)**2\n",
    "    SSE = np.sum(SE)\n",
    "    return SSE"
   ]
  },
  {
   "cell_type": "code",
   "execution_count": 84,
   "metadata": {
    "collapsed": false
   },
   "outputs": [],
   "source": [
    "logPsat = np.log10(Psat)\n",
    "invTsat = 1000./Tsat\n",
    "\n",
    "slope, intercept, r_value, p_value, std_err = stats.linregress(invTsat,logPsat)\n",
    "\n",
    "logPsatHat = lambda invT: intercept + slope * invT\n",
    "PsatHat = lambda T: 10.**(logPsatHat(1000./T))"
   ]
  },
  {
   "cell_type": "code",
   "execution_count": 85,
   "metadata": {
    "collapsed": true
   },
   "outputs": [],
   "source": [
    "def logPAntoine(b,T):\n",
    "    logP = b[0] - b[1]/(b[2] + T)\n",
    "    return logP"
   ]
  },
  {
   "cell_type": "code",
   "execution_count": 86,
   "metadata": {
    "collapsed": false
   },
   "outputs": [
    {
     "data": {
      "text/plain": [
       "0.0017917937346864511"
      ]
     },
     "execution_count": 86,
     "metadata": {},
     "output_type": "execute_result"
    }
   ],
   "source": [
    "SSElogP = lambda b: SSE(logPsat,logPAntoine(b,Tsat))\n",
    "guess = np.array([intercept,-slope*1000.,0.])\n",
    "SSElogP(guess)"
   ]
  },
  {
   "cell_type": "code",
   "execution_count": 87,
   "metadata": {
    "collapsed": false
   },
   "outputs": [
    {
     "data": {
      "text/plain": [
       "array([   3.99319846,  671.72212285,  -20.58775973])"
      ]
     },
     "execution_count": 87,
     "metadata": {},
     "output_type": "execute_result"
    }
   ],
   "source": [
    "bopt = minimize(SSElogP,guess).x\n",
    "bopt"
   ]
  },
  {
   "cell_type": "code",
   "execution_count": 88,
   "metadata": {
    "collapsed": false
   },
   "outputs": [
    {
     "data": {
      "text/plain": [
       "array([ 1.37123237,  1.0820987 ,  0.64852577, -0.02991744, -1.22942168])"
      ]
     },
     "execution_count": 88,
     "metadata": {},
     "output_type": "execute_result"
    }
   ],
   "source": [
    "logPAntoine(bopt,Tsat)"
   ]
  },
  {
   "cell_type": "code",
   "execution_count": 89,
   "metadata": {
    "collapsed": false
   },
   "outputs": [
    {
     "data": {
      "text/plain": [
       "array([ 1.37123237,  1.0820987 ,  0.64852577, -0.02991744, -1.22942168])"
      ]
     },
     "execution_count": 89,
     "metadata": {},
     "output_type": "execute_result"
    }
   ],
   "source": [
    "logPhat = lambda T: logPAntoine(bopt,T)\n",
    "logPhat(Tsat)"
   ]
  },
  {
   "cell_type": "code",
   "execution_count": 90,
   "metadata": {
    "collapsed": false
   },
   "outputs": [],
   "source": [
    "Tplot = np.linspace(min(Tsat),max(Tsat),1000)\n",
    "invTplot = 1000./Tplot\n",
    "logPsatplot = logPsatHat(invTplot)\n",
    "logPAntoineplot = logPhat(Tplot)"
   ]
  },
  {
   "cell_type": "code",
   "execution_count": 91,
   "metadata": {
    "collapsed": false
   },
   "outputs": [
    {
     "data": {
      "image/png": "[encoded data removed]",
      "text/plain": [
       "<matplotlib.figure.Figure at 0x1f74c154da0>"
      ]
     },
     "metadata": {},
     "output_type": "display_data"
    }
   ],
   "source": [
    "plt.plot(invTsat,logPsat,'ro')\n",
    "plt.plot(invTplot,logPsatplot,'k')\n",
    "plt.plot(invTplot,logPAntoineplot,'g')\n",
    "plt.xlabel('1000/T (K)')\n",
    "plt.ylabel('log(Psat/bar)')\n",
    "plt.show()"
   ]
  },
  {
   "cell_type": "code",
   "execution_count": 92,
   "metadata": {
    "collapsed": false
   },
   "outputs": [
    {
     "data": {
      "text/plain": [
       "array([ 385.84095294,  474.75672961,  564.57231411,  658.01264871,\n",
       "        758.11018966])"
      ]
     },
     "execution_count": 92,
     "metadata": {},
     "output_type": "execute_result"
    }
   ],
   "source": [
    "def rholHat(b,T):\n",
    "    beta = 0.326\n",
    "    rhol = b[0] + b[1]*(b[2] - T) + b[3]*(b[2] - T)**beta\n",
    "    return rhol\n",
    "\n",
    "guess = np.array([200.,2,300.,50])\n",
    "\n",
    "rholHat(guess,Tsat)"
   ]
  },
  {
   "cell_type": "code",
   "execution_count": 93,
   "metadata": {
    "collapsed": false
   },
   "outputs": [
    {
     "data": {
      "text/plain": [
       "39539.747397399493"
      ]
     },
     "execution_count": 93,
     "metadata": {},
     "output_type": "execute_result"
    }
   ],
   "source": [
    "SSE(rhol,rholHat(guess,Tsat))"
   ]
  },
  {
   "cell_type": "code",
   "execution_count": 94,
   "metadata": {
    "collapsed": false
   },
   "outputs": [
    {
     "data": {
      "text/plain": [
       "39539.747397399493"
      ]
     },
     "execution_count": 94,
     "metadata": {},
     "output_type": "execute_result"
    }
   ],
   "source": [
    "SSErhol = lambda b: SSE(rhol,rholHat(b,Tsat))\n",
    "\n",
    "SSErhol(guess)"
   ]
  },
  {
   "cell_type": "code",
   "execution_count": 95,
   "metadata": {
    "collapsed": false
   },
   "outputs": [
    {
     "data": {
      "text/plain": [
       "array([  4.84379087e+01,   2.58462907e-01,   3.51463336e+02,\n",
       "         8.84402753e+01])"
      ]
     },
     "execution_count": 95,
     "metadata": {},
     "output_type": "execute_result"
    }
   ],
   "source": [
    "bopt = minimize(SSErhol,guess).x\n",
    "bopt"
   ]
  },
  {
   "cell_type": "code",
   "execution_count": 96,
   "metadata": {
    "collapsed": false
   },
   "outputs": [
    {
     "data": {
      "text/plain": [
       "0.022934492991889113"
      ]
     },
     "execution_count": 96,
     "metadata": {},
     "output_type": "execute_result"
    }
   ],
   "source": [
    "SSErhol(bopt)"
   ]
  },
  {
   "cell_type": "code",
   "execution_count": 98,
   "metadata": {
    "collapsed": false
   },
   "outputs": [
    {
     "data": {
      "image/png": "[encoded data removed]",
      "text/plain": [
       "<matplotlib.figure.Figure at 0x1f74d2046d8>"
      ]
     },
     "metadata": {},
     "output_type": "display_data"
    }
   ],
   "source": [
    "plt.plot(rhol,Tsat,'rx')\n",
    "plt.plot(rhov,Tsat,'rx')\n",
    "plt.plot(rholHat(bopt,Tplot),Tplot,'k')\n",
    "plt.xlabel('Density (kg/m3)')\n",
    "plt.ylabel('Temperature (K)')\n",
    "plt.show()"
   ]
  },
  {
   "cell_type": "code",
   "execution_count": null,
   "metadata": {
    "collapsed": true
   },
   "outputs": [],
   "source": []
  }
 ],
 "metadata": {
  "kernelspec": {
   "display_name": "Python 3",
   "language": "python",
   "name": "python3"
  },
  "language_info": {
   "codemirror_mode": {
    "name": "ipython",
    "version": 3
   },
   "file_extension": ".py",
   "mimetype": "text/x-python",
   "name": "python",
   "nbconvert_exporter": "python",
   "pygments_lexer": "ipython3",
   "version": "3.6.0"
  }
 },
 "nbformat": 4,
 "nbformat_minor": 2
}
